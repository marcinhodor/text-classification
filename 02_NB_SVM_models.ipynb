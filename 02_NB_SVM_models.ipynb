{
 "metadata": {
  "language_info": {
   "codemirror_mode": {
    "name": "ipython",
    "version": 3
   },
   "file_extension": ".py",
   "mimetype": "text/x-python",
   "name": "python",
   "nbconvert_exporter": "python",
   "pygments_lexer": "ipython3",
   "version": "3.8.8"
  },
  "orig_nbformat": 2,
  "kernelspec": {
   "name": "python388jvsc74a57bd0912010baf4bb90041d1ad81dcecc32bbbfca13fd6e059f3921407f6ca36161e8",
   "display_name": "Python 3.8.8 64-bit"
  },
  "metadata": {
   "interpreter": {
    "hash": "912010baf4bb90041d1ad81dcecc32bbbfca13fd6e059f3921407f6ca36161e8"
   }
  }
 },
 "nbformat": 4,
 "nbformat_minor": 2,
 "cells": [
  {
   "source": [
    "### Load libraries"
   ],
   "cell_type": "markdown",
   "metadata": {}
  },
  {
   "cell_type": "code",
   "execution_count": 1,
   "metadata": {},
   "outputs": [],
   "source": [
    "import pandas as pd\n",
    "import numpy as np"
   ]
  },
  {
   "source": [
    "### Import data from pickles"
   ],
   "cell_type": "markdown",
   "metadata": {}
  },
  {
   "cell_type": "code",
   "execution_count": 2,
   "metadata": {},
   "outputs": [],
   "source": [
    "train_df = pd.read_pickle('pickles/train_df.pkl')\n",
    "test_df = pd.read_pickle('pickles/test_df.pkl')"
   ]
  },
  {
   "source": [
    "### Vectorization"
   ],
   "cell_type": "markdown",
   "metadata": {}
  },
  {
   "cell_type": "code",
   "execution_count": 3,
   "metadata": {},
   "outputs": [],
   "source": [
    "# apply vectorization on train set\n",
    "from sklearn.feature_extraction.text import CountVectorizer\n",
    "cv = CountVectorizer()\n",
    "texts_train = train_df['corpus'].tolist()\n",
    "X_train = cv.fit_transform(texts_train).toarray()\n",
    "y_train = train_df.iloc[:, -1].values"
   ]
  },
  {
   "cell_type": "code",
   "execution_count": 4,
   "metadata": {},
   "outputs": [],
   "source": [
    "# ...test set\n",
    "texts_test = test_df['corpus'].tolist()\n",
    "X_test = cv.transform(texts_test).toarray()\n",
    "y_test = test_df.iloc[:, -1].values"
   ]
  },
  {
   "source": [
    "### Naive Bayes model"
   ],
   "cell_type": "markdown",
   "metadata": {}
  },
  {
   "cell_type": "code",
   "execution_count": 5,
   "metadata": {},
   "outputs": [
    {
     "output_type": "execute_result",
     "data": {
      "text/plain": [
       "MultinomialNB()"
      ]
     },
     "metadata": {},
     "execution_count": 5
    }
   ],
   "source": [
    "# import and train model\n",
    "from sklearn.naive_bayes import MultinomialNB\n",
    "classifier = MultinomialNB()\n",
    "classifier.fit(X_train, y_train)"
   ]
  },
  {
   "cell_type": "code",
   "execution_count": 6,
   "metadata": {},
   "outputs": [],
   "source": [
    "# predictions\n",
    "y_pred = classifier.predict(X_test)"
   ]
  },
  {
   "cell_type": "code",
   "execution_count": 7,
   "metadata": {},
   "outputs": [
    {
     "output_type": "stream",
     "name": "stdout",
     "text": [
      "0.8947073648837861\n[[ 721   13   23    4   31    2]\n [   4 1819    8   11  112    1]\n [   4    5  958   45   35    3]\n [   0   14   63  862   28    1]\n [  24  156   74   42 1281    2]\n [   2   17    9   11    8  749]]\n"
     ]
    }
   ],
   "source": [
    "# accuracy score and confusion matrix\n",
    "from sklearn.metrics import confusion_matrix, accuracy_score\n",
    "print(accuracy_score(y_test, y_pred))\n",
    "cm = confusion_matrix(y_test, y_pred, labels=['Automotive', 'Computers', 'Politics', 'Religion', 'Science', 'Sports'])\n",
    "print(cm)"
   ]
  },
  {
   "source": [
    "### Support Vector Machine model"
   ],
   "cell_type": "markdown",
   "metadata": {}
  },
  {
   "cell_type": "code",
   "execution_count": 8,
   "metadata": {},
   "outputs": [
    {
     "output_type": "execute_result",
     "data": {
      "text/plain": [
       "LinearSVC(max_iter=2000)"
      ]
     },
     "metadata": {},
     "execution_count": 8
    }
   ],
   "source": [
    "# import and train model\n",
    "from sklearn.svm import LinearSVC\n",
    "classifier = LinearSVC(max_iter=2000)\n",
    "classifier.fit(X_train, y_train)"
   ]
  },
  {
   "cell_type": "code",
   "execution_count": 9,
   "metadata": {},
   "outputs": [],
   "source": [
    "#preditions\n",
    "y_pred = classifier.predict(X_test)"
   ]
  },
  {
   "cell_type": "code",
   "execution_count": 10,
   "metadata": {},
   "outputs": [
    {
     "output_type": "stream",
     "name": "stdout",
     "text": [
      "0.8401008120974517\n[[ 690   38   12    5   45    4]\n [  30 1788   13   13  103    8]\n [  22   39  801  100   67   21]\n [   8   36   47  814   55    8]\n [  42  222   74   39 1188   14]\n [  13   27   10   13   14  719]]\n"
     ]
    }
   ],
   "source": [
    "# accuracy score and confusion matrix\n",
    "from sklearn.metrics import confusion_matrix, accuracy_score\n",
    "print(accuracy_score(y_test, y_pred))\n",
    "cm = confusion_matrix(y_test, y_pred)\n",
    "print(cm)"
   ]
  }
 ]
}