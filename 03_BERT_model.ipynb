{
 "metadata": {
  "language_info": {
   "codemirror_mode": {
    "name": "ipython",
    "version": 3
   },
   "file_extension": ".py",
   "mimetype": "text/x-python",
   "name": "python",
   "nbconvert_exporter": "python",
   "pygments_lexer": "ipython3",
   "version": "3.8.8"
  },
  "orig_nbformat": 2,
  "kernelspec": {
   "name": "python388jvsc74a57bd0912010baf4bb90041d1ad81dcecc32bbbfca13fd6e059f3921407f6ca36161e8",
   "display_name": "Python 3.8.8 64-bit"
  },
  "metadata": {
   "interpreter": {
    "hash": "912010baf4bb90041d1ad81dcecc32bbbfca13fd6e059f3921407f6ca36161e8"
   }
  }
 },
 "nbformat": 4,
 "nbformat_minor": 2,
 "cells": [
  {
   "source": [
    "### Load libraries"
   ],
   "cell_type": "markdown",
   "metadata": {}
  },
  {
   "cell_type": "code",
   "execution_count": null,
   "metadata": {},
   "outputs": [],
   "source": [
    "import os\n",
    "import numpy as np\n",
    "import tensorflow as tf\n",
    "import ktrain\n",
    "from ktrain import text\n",
    "import pandas as pd"
   ]
  },
  {
   "source": [
    "### Import data from pickles"
   ],
   "cell_type": "markdown",
   "metadata": {}
  },
  {
   "cell_type": "code",
   "execution_count": null,
   "metadata": {},
   "outputs": [],
   "source": [
    "train_df = pd.read_pickle('pickles/train_df.pkl')\n",
    "test_df = pd.read_pickle('pickles/test_df.pkl')"
   ]
  },
  {
   "source": [
    "### Preprocess train and test sets"
   ],
   "cell_type": "markdown",
   "metadata": {}
  },
  {
   "cell_type": "code",
   "execution_count": null,
   "metadata": {},
   "outputs": [],
   "source": [
    "(X_train, y_train), (X_test, y_test), preproc = text.texts_from_df(train_df=train_df,\n",
    "                                                                   text_column = 'corpus',\n",
    "                                                                   label_columns = ['category'],\n",
    "                                                                   val_df = test_df,\n",
    "                                                                   maxlen = 500,\n",
    "                                                                   preprocess_mode = 'bert')"
   ]
  },
  {
   "source": [
    "### Create model"
   ],
   "cell_type": "markdown",
   "metadata": {}
  },
  {
   "cell_type": "code",
   "execution_count": null,
   "metadata": {},
   "outputs": [],
   "source": [
    "model = text.text_classifier(name='bert', train_data=(X_train, y_train), preproc=preproc)"
   ]
  },
  {
   "source": [
    "### Train model"
   ],
   "cell_type": "markdown",
   "metadata": {}
  },
  {
   "cell_type": "code",
   "execution_count": null,
   "metadata": {},
   "outputs": [],
   "source": [
    "learner = ktrain.get_learner(model=model, train_data=(X_train, y_train), val_data=(X_test, y_test), batch_size=2)"
   ]
  },
  {
   "cell_type": "code",
   "execution_count": null,
   "metadata": {},
   "outputs": [],
   "source": [
    "learner.fit_onecycle(lr=2e-5, epochs=5)"
   ]
  },
  {
   "source": [
    "### Evaluate model"
   ],
   "cell_type": "markdown",
   "metadata": {}
  },
  {
   "cell_type": "code",
   "execution_count": null,
   "metadata": {},
   "outputs": [],
   "source": [
    "learner.evaluate((X_test, y_test), class_names=preproc.get_classes())"
   ]
  }
 ]
}