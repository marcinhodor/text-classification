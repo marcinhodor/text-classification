{
 "metadata": {
  "language_info": {
   "codemirror_mode": {
    "name": "ipython",
    "version": 3
   },
   "file_extension": ".py",
   "mimetype": "text/x-python",
   "name": "python",
   "nbconvert_exporter": "python",
   "pygments_lexer": "ipython3",
   "version": "3.8.8"
  },
  "orig_nbformat": 2,
  "kernelspec": {
   "name": "python388jvsc74a57bd0912010baf4bb90041d1ad81dcecc32bbbfca13fd6e059f3921407f6ca36161e8",
   "display_name": "Python 3.8.8 64-bit"
  },
  "metadata": {
   "interpreter": {
    "hash": "912010baf4bb90041d1ad81dcecc32bbbfca13fd6e059f3921407f6ca36161e8"
   }
  }
 },
 "nbformat": 4,
 "nbformat_minor": 2,
 "cells": [
  {
   "source": [
    "### Load libraries"
   ],
   "cell_type": "markdown",
   "metadata": {}
  },
  {
   "cell_type": "code",
   "execution_count": 1,
   "metadata": {},
   "outputs": [],
   "source": [
    "import os\n",
    "import numpy as np\n",
    "import tensorflow as tf\n",
    "import ktrain\n",
    "from ktrain import text\n",
    "import pandas as pd"
   ]
  },
  {
   "source": [
    "### Import data from pickles"
   ],
   "cell_type": "markdown",
   "metadata": {}
  },
  {
   "cell_type": "code",
   "execution_count": 2,
   "metadata": {},
   "outputs": [],
   "source": [
    "train_df = pd.read_pickle('pickles/train_df.pkl')\n",
    "test_df = pd.read_pickle('pickles/test_df.pkl')"
   ]
  },
  {
   "source": [
    "### Preprocess train and test sets"
   ],
   "cell_type": "markdown",
   "metadata": {}
  },
  {
   "cell_type": "code",
   "execution_count": 3,
   "metadata": {},
   "outputs": [
    {
     "output_type": "stream",
     "name": "stdout",
     "text": [
      "['Automotive', 'Computers', 'Politics', 'Religion', 'Science', 'Sports']\n",
      "   Automotive  Computers  Politics  Religion  Science  Sports\n",
      "0         1.0        0.0       0.0       0.0      0.0     0.0\n",
      "1         1.0        0.0       0.0       0.0      0.0     0.0\n",
      "2         1.0        0.0       0.0       0.0      0.0     0.0\n",
      "3         1.0        0.0       0.0       0.0      0.0     0.0\n",
      "4         1.0        0.0       0.0       0.0      0.0     0.0\n",
      "['Automotive', 'Computers', 'Politics', 'Religion', 'Science', 'Sports']\n",
      "   Automotive  Computers  Politics  Religion  Science  Sports\n",
      "0         1.0        0.0       0.0       0.0      0.0     0.0\n",
      "1         1.0        0.0       0.0       0.0      0.0     0.0\n",
      "2         1.0        0.0       0.0       0.0      0.0     0.0\n",
      "3         1.0        0.0       0.0       0.0      0.0     0.0\n",
      "4         1.0        0.0       0.0       0.0      0.0     0.0\n",
      "preprocessing train...\n",
      "language: en\n"
     ]
    },
    {
     "output_type": "display_data",
     "data": {
      "text/plain": "<IPython.core.display.HTML object>",
      "text/html": "\n    <div>\n        <style>\n            /* Turns off some styling */\n            progress {\n                /* gets rid of default border in Firefox and Opera. */\n                border: none;\n                /* Needs to be in here for Safari polyfill so background images work as expected. */\n                background-size: auto;\n            }\n            .progress-bar-interrupted, .progress-bar-interrupted::-webkit-progress-bar {\n                background: #F44336;\n            }\n        </style>\n      <progress value='0' class='' max='1' style='width:300px; height:20px; vertical-align: middle;'></progress>\n      \n    </div>\n    \n"
     },
     "metadata": {}
    },
    {
     "output_type": "stream",
     "name": "stdout",
     "text": [
      "Is Multi-Label? False\npreprocessing test...\nlanguage: en\n"
     ]
    },
    {
     "output_type": "display_data",
     "data": {
      "text/plain": "<IPython.core.display.HTML object>",
      "text/html": "\n    <div>\n        <style>\n            /* Turns off some styling */\n            progress {\n                /* gets rid of default border in Firefox and Opera. */\n                border: none;\n                /* Needs to be in here for Safari polyfill so background images work as expected. */\n                background-size: auto;\n            }\n            .progress-bar-interrupted, .progress-bar-interrupted::-webkit-progress-bar {\n                background: #F44336;\n            }\n        </style>\n      <progress value='0' class='' max='1' style='width:300px; height:20px; vertical-align: middle;'></progress>\n      \n    </div>\n    \n"
     },
     "metadata": {}
    }
   ],
   "source": [
    "(X_train, y_train), (X_test, y_test), preproc = text.texts_from_df(train_df=train_df,\n",
    "                                                                   text_column = 'corpus',\n",
    "                                                                   label_columns = ['category'],\n",
    "                                                                   val_df = test_df,\n",
    "                                                                   maxlen = 500,\n",
    "                                                                   preprocess_mode = 'bert')"
   ]
  },
  {
   "source": [
    "### Create model"
   ],
   "cell_type": "markdown",
   "metadata": {}
  },
  {
   "cell_type": "code",
   "execution_count": 4,
   "metadata": {},
   "outputs": [
    {
     "output_type": "stream",
     "name": "stdout",
     "text": [
      "Is Multi-Label? False\n",
      "maxlen is 500\n",
      "done.\n"
     ]
    }
   ],
   "source": [
    "model = text.text_classifier(name='bert', train_data=(X_train, y_train), preproc=preproc)"
   ]
  },
  {
   "source": [
    "### Train model"
   ],
   "cell_type": "markdown",
   "metadata": {}
  },
  {
   "cell_type": "code",
   "execution_count": 5,
   "metadata": {},
   "outputs": [],
   "source": [
    "learner = ktrain.get_learner(model=model, train_data=(X_train, y_train), val_data=(X_test, y_test), batch_size=2)"
   ]
  },
  {
   "cell_type": "code",
   "execution_count": 6,
   "metadata": {},
   "outputs": [
    {
     "output_type": "stream",
     "name": "stdout",
     "text": [
      "\n",
      "\n",
      "begin training using onecycle policy with max lr of 2e-05...\n",
      "Epoch 1/5\n",
      "5365/5365 [==============================] - 2918s 540ms/step - loss: 0.7572 - accuracy: 0.7341 - val_loss: 0.3509 - val_accuracy: 0.8855\n",
      "Epoch 2/5\n",
      "5365/5365 [==============================] - 2894s 539ms/step - loss: 0.2182 - accuracy: 0.9296 - val_loss: 0.3821 - val_accuracy: 0.8885\n",
      "Epoch 3/5\n",
      "5365/5365 [==============================] - 2800s 522ms/step - loss: 0.1427 - accuracy: 0.9554 - val_loss: 0.3428 - val_accuracy: 0.9016\n",
      "Epoch 4/5\n",
      "5365/5365 [==============================] - 2748s 512ms/step - loss: 0.0770 - accuracy: 0.9762 - val_loss: 0.3350 - val_accuracy: 0.9108\n",
      "Epoch 5/5\n",
      "5365/5365 [==============================] - 2799s 522ms/step - loss: 0.0228 - accuracy: 0.9929 - val_loss: 0.4336 - val_accuracy: 0.9105\n"
     ]
    },
    {
     "output_type": "execute_result",
     "data": {
      "text/plain": [
       "<tensorflow.python.keras.callbacks.History at 0x13edf77c760>"
      ]
     },
     "metadata": {},
     "execution_count": 6
    }
   ],
   "source": [
    "learner.fit_onecycle(lr=2e-5, epochs=5)"
   ]
  },
  {
   "source": [
    "### Evaluate model"
   ],
   "cell_type": "markdown",
   "metadata": {}
  },
  {
   "cell_type": "code",
   "execution_count": 7,
   "metadata": {},
   "outputs": [
    {
     "output_type": "stream",
     "name": "stdout",
     "text": [
      "              precision    recall  f1-score   support\n\n  Automotive       0.97      0.89      0.93       794\n   Computers       0.94      0.94      0.94      1955\n    Politics       0.89      0.87      0.88      1050\n    Religion       0.88      0.89      0.88       968\n     Science       0.86      0.89      0.87      1579\n      Sports       0.97      0.97      0.97       796\n\n    accuracy                           0.91      7142\n   macro avg       0.92      0.91      0.91      7142\nweighted avg       0.91      0.91      0.91      7142\n\n"
     ]
    },
    {
     "output_type": "execute_result",
     "data": {
      "text/plain": [
       "array([[ 705,   11,   15,    4,   53,    6],\n",
       "       [   0, 1844,    7,    5,   97,    2],\n",
       "       [   6,    8,  911,   81,   41,    3],\n",
       "       [   2,    6,   51,  862,   39,    8],\n",
       "       [   7,   95,   36,   27, 1406,    8],\n",
       "       [   5,    6,    2,    2,    6,  775]], dtype=int64)"
      ]
     },
     "metadata": {},
     "execution_count": 7
    }
   ],
   "source": [
    "learner.evaluate((X_test, y_test), class_names=preproc.get_classes())"
   ]
  }
 ]
}