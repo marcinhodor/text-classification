{
 "metadata": {
  "language_info": {
   "codemirror_mode": {
    "name": "ipython",
    "version": 3
   },
   "file_extension": ".py",
   "mimetype": "text/x-python",
   "name": "python",
   "nbconvert_exporter": "python",
   "pygments_lexer": "ipython3",
   "version": "3.8.8"
  },
  "orig_nbformat": 2,
  "kernelspec": {
   "name": "python388jvsc74a57bd0912010baf4bb90041d1ad81dcecc32bbbfca13fd6e059f3921407f6ca36161e8",
   "display_name": "Python 3.8.8 64-bit"
  },
  "metadata": {
   "interpreter": {
    "hash": "912010baf4bb90041d1ad81dcecc32bbbfca13fd6e059f3921407f6ca36161e8"
   }
  }
 },
 "nbformat": 4,
 "nbformat_minor": 2,
 "cells": [
  {
   "source": [
    "### Import libraries"
   ],
   "cell_type": "markdown",
   "metadata": {}
  },
  {
   "cell_type": "code",
   "execution_count": 1,
   "metadata": {},
   "outputs": [],
   "source": [
    "import os\n",
    "import pandas as pd\n",
    "import re\n",
    "import string"
   ]
  },
  {
   "source": [
    "### Custom import functions"
   ],
   "cell_type": "markdown",
   "metadata": {}
  },
  {
   "cell_type": "code",
   "execution_count": 2,
   "metadata": {},
   "outputs": [],
   "source": [
    "# scan root folder for filenames folder names (categories)\n",
    "def get_filepaths_and_categories(root_folder):\n",
    "    filepaths_and_categories = []\n",
    "    for root, dirs, files in os.walk(root_folder):\n",
    "        for file_name in files:\n",
    "            directory = root[root.rfind('\\\\')+1 :]\n",
    "            path_to_file = root + '/' + file_name\n",
    "            filepaths_and_categories.append({'path': path_to_file, \n",
    "                                             'category': directory})\n",
    "    return filepaths_and_categories"
   ]
  },
  {
   "cell_type": "code",
   "execution_count": 3,
   "metadata": {},
   "outputs": [],
   "source": [
    "# import data from files and remove unnecessary headers\n",
    "def import_data(filepaths_and_categories):\n",
    "    texts = []\n",
    "    categories = []\n",
    "\n",
    "    for item in filepaths_and_categories:\n",
    "        f = open(item['path'], mode='r', encoding=\"utf8\", errors='ignore')\n",
    "        lines = f.read().splitlines()\n",
    "\n",
    "        def filters(line):\n",
    "            if line == '': return False\n",
    "            if re.match('(^[A-Z]).*(: )', line): return False\n",
    "            if re.match('^(In article <)', line): return False\n",
    "            else: return True\n",
    "\n",
    "        lines_filtered = filter(filters, lines)\n",
    "\n",
    "        texts.append(' '.join(lines_filtered))\n",
    "        categories.append(item['category'])\n",
    "    \n",
    "    return {'corpus': texts, 'category': categories}"
   ]
  },
  {
   "source": [
    "### Import data"
   ],
   "cell_type": "markdown",
   "metadata": {}
  },
  {
   "cell_type": "code",
   "execution_count": 4,
   "metadata": {
    "tags": []
   },
   "outputs": [],
   "source": [
    "#apply custom functions to import train data and convert to pandas DF\n",
    "root_folder_train = 'data/20news-bydate-train'\n",
    "train_files_and_categories = get_filepaths_and_categories(root_folder_train)\n",
    "train_data = import_data(train_files_and_categories)\n",
    "\n",
    "train_df = pd.DataFrame(train_data)"
   ]
  },
  {
   "cell_type": "code",
   "execution_count": 5,
   "metadata": {
    "tags": []
   },
   "outputs": [],
   "source": [
    "#...test data...\n",
    "root_folder_test = 'data/20news-bydate-test'\n",
    "test_files_and_categories = get_filepaths_and_categories(root_folder_test)\n",
    "test_data = import_data(test_files_and_categories)\n",
    "\n",
    "test_df = pd.DataFrame(test_data)"
   ]
  },
  {
   "source": [
    "### Review data"
   ],
   "cell_type": "markdown",
   "metadata": {}
  },
  {
   "cell_type": "code",
   "execution_count": 6,
   "metadata": {},
   "outputs": [
    {
     "output_type": "execute_result",
     "data": {
      "text/plain": [
       "                                              corpus    category\n",
       "0  |> CarolinaFan@uiuc (cka52397@uxa.cso.uiuc.edu...  Automotive\n",
       "1  >Road and Track (2/88) BMW325is     0-60 7.5s,...  Automotive\n",
       "2  THANKS TO ALL OF YOU WHO RESPONDED TO MY POSTI...  Automotive\n",
       "3  The subject says it all. My 1984 Chev S10 Pick...  Automotive\n",
       "4  wolfson@regatta.sps.mot.com (Stephen Wolfson) ...  Automotive"
      ],
      "text/html": "<div>\n<style scoped>\n    .dataframe tbody tr th:only-of-type {\n        vertical-align: middle;\n    }\n\n    .dataframe tbody tr th {\n        vertical-align: top;\n    }\n\n    .dataframe thead th {\n        text-align: right;\n    }\n</style>\n<table border=\"1\" class=\"dataframe\">\n  <thead>\n    <tr style=\"text-align: right;\">\n      <th></th>\n      <th>corpus</th>\n      <th>category</th>\n    </tr>\n  </thead>\n  <tbody>\n    <tr>\n      <th>0</th>\n      <td>|&gt; CarolinaFan@uiuc (cka52397@uxa.cso.uiuc.edu...</td>\n      <td>Automotive</td>\n    </tr>\n    <tr>\n      <th>1</th>\n      <td>&gt;Road and Track (2/88) BMW325is     0-60 7.5s,...</td>\n      <td>Automotive</td>\n    </tr>\n    <tr>\n      <th>2</th>\n      <td>THANKS TO ALL OF YOU WHO RESPONDED TO MY POSTI...</td>\n      <td>Automotive</td>\n    </tr>\n    <tr>\n      <th>3</th>\n      <td>The subject says it all. My 1984 Chev S10 Pick...</td>\n      <td>Automotive</td>\n    </tr>\n    <tr>\n      <th>4</th>\n      <td>wolfson@regatta.sps.mot.com (Stephen Wolfson) ...</td>\n      <td>Automotive</td>\n    </tr>\n  </tbody>\n</table>\n</div>"
     },
     "metadata": {},
     "execution_count": 6
    }
   ],
   "source": [
    "#train data\n",
    "train_df.head()"
   ]
  },
  {
   "cell_type": "code",
   "execution_count": 7,
   "metadata": {},
   "outputs": [
    {
     "output_type": "execute_result",
     "data": {
      "text/plain": [
       "           corpus\n",
       "            count\n",
       "category         \n",
       "Automotive   1192\n",
       "Computers    2936\n",
       "Politics     1575\n",
       "Religion     1456\n",
       "Science      2373\n",
       "Sports       1197"
      ],
      "text/html": "<div>\n<style scoped>\n    .dataframe tbody tr th:only-of-type {\n        vertical-align: middle;\n    }\n\n    .dataframe tbody tr th {\n        vertical-align: top;\n    }\n\n    .dataframe thead tr th {\n        text-align: left;\n    }\n\n    .dataframe thead tr:last-of-type th {\n        text-align: right;\n    }\n</style>\n<table border=\"1\" class=\"dataframe\">\n  <thead>\n    <tr>\n      <th></th>\n      <th>corpus</th>\n    </tr>\n    <tr>\n      <th></th>\n      <th>count</th>\n    </tr>\n    <tr>\n      <th>category</th>\n      <th></th>\n    </tr>\n  </thead>\n  <tbody>\n    <tr>\n      <th>Automotive</th>\n      <td>1192</td>\n    </tr>\n    <tr>\n      <th>Computers</th>\n      <td>2936</td>\n    </tr>\n    <tr>\n      <th>Politics</th>\n      <td>1575</td>\n    </tr>\n    <tr>\n      <th>Religion</th>\n      <td>1456</td>\n    </tr>\n    <tr>\n      <th>Science</th>\n      <td>2373</td>\n    </tr>\n    <tr>\n      <th>Sports</th>\n      <td>1197</td>\n    </tr>\n  </tbody>\n</table>\n</div>"
     },
     "metadata": {},
     "execution_count": 7
    }
   ],
   "source": [
    "train_df.groupby(['category']).agg(['count'])"
   ]
  },
  {
   "cell_type": "code",
   "execution_count": 8,
   "metadata": {},
   "outputs": [
    {
     "output_type": "execute_result",
     "data": {
      "text/plain": [
       "corpus      10729\n",
       "category    10729\n",
       "dtype: int64"
      ]
     },
     "metadata": {},
     "execution_count": 8
    }
   ],
   "source": [
    "train_df.count()"
   ]
  },
  {
   "cell_type": "code",
   "execution_count": 9,
   "metadata": {},
   "outputs": [
    {
     "output_type": "execute_result",
     "data": {
      "text/plain": [
       "                                              corpus    category\n",
       "0                Corp. The opinions expressed are...  Automotive\n",
       "1  tobias@convex.com (Allen Tobias) writes: >Bett...  Automotive\n",
       "2  It is actually simple in principle. Porous ads...  Automotive\n",
       "3  I don't know about where you are, but here in ...  Automotive\n",
       "4  > >In article <66758@mimsy.umd.edu> davew@cs.u...  Automotive"
      ],
      "text/html": "<div>\n<style scoped>\n    .dataframe tbody tr th:only-of-type {\n        vertical-align: middle;\n    }\n\n    .dataframe tbody tr th {\n        vertical-align: top;\n    }\n\n    .dataframe thead th {\n        text-align: right;\n    }\n</style>\n<table border=\"1\" class=\"dataframe\">\n  <thead>\n    <tr style=\"text-align: right;\">\n      <th></th>\n      <th>corpus</th>\n      <th>category</th>\n    </tr>\n  </thead>\n  <tbody>\n    <tr>\n      <th>0</th>\n      <td>Corp. The opinions expressed are...</td>\n      <td>Automotive</td>\n    </tr>\n    <tr>\n      <th>1</th>\n      <td>tobias@convex.com (Allen Tobias) writes: &gt;Bett...</td>\n      <td>Automotive</td>\n    </tr>\n    <tr>\n      <th>2</th>\n      <td>It is actually simple in principle. Porous ads...</td>\n      <td>Automotive</td>\n    </tr>\n    <tr>\n      <th>3</th>\n      <td>I don't know about where you are, but here in ...</td>\n      <td>Automotive</td>\n    </tr>\n    <tr>\n      <th>4</th>\n      <td>&gt; &gt;In article &lt;66758@mimsy.umd.edu&gt; davew@cs.u...</td>\n      <td>Automotive</td>\n    </tr>\n  </tbody>\n</table>\n</div>"
     },
     "metadata": {},
     "execution_count": 9
    }
   ],
   "source": [
    "#test data\n",
    "test_df.head()"
   ]
  },
  {
   "cell_type": "code",
   "execution_count": 10,
   "metadata": {},
   "outputs": [
    {
     "output_type": "execute_result",
     "data": {
      "text/plain": [
       "           corpus\n",
       "            count\n",
       "category         \n",
       "Automotive    794\n",
       "Computers    1955\n",
       "Politics     1050\n",
       "Religion      968\n",
       "Science      1579\n",
       "Sports        796"
      ],
      "text/html": "<div>\n<style scoped>\n    .dataframe tbody tr th:only-of-type {\n        vertical-align: middle;\n    }\n\n    .dataframe tbody tr th {\n        vertical-align: top;\n    }\n\n    .dataframe thead tr th {\n        text-align: left;\n    }\n\n    .dataframe thead tr:last-of-type th {\n        text-align: right;\n    }\n</style>\n<table border=\"1\" class=\"dataframe\">\n  <thead>\n    <tr>\n      <th></th>\n      <th>corpus</th>\n    </tr>\n    <tr>\n      <th></th>\n      <th>count</th>\n    </tr>\n    <tr>\n      <th>category</th>\n      <th></th>\n    </tr>\n  </thead>\n  <tbody>\n    <tr>\n      <th>Automotive</th>\n      <td>794</td>\n    </tr>\n    <tr>\n      <th>Computers</th>\n      <td>1955</td>\n    </tr>\n    <tr>\n      <th>Politics</th>\n      <td>1050</td>\n    </tr>\n    <tr>\n      <th>Religion</th>\n      <td>968</td>\n    </tr>\n    <tr>\n      <th>Science</th>\n      <td>1579</td>\n    </tr>\n    <tr>\n      <th>Sports</th>\n      <td>796</td>\n    </tr>\n  </tbody>\n</table>\n</div>"
     },
     "metadata": {},
     "execution_count": 10
    }
   ],
   "source": [
    "test_df.groupby(['category']).agg(['count'])"
   ]
  },
  {
   "cell_type": "code",
   "execution_count": 11,
   "metadata": {},
   "outputs": [
    {
     "output_type": "execute_result",
     "data": {
      "text/plain": [
       "corpus      7142\n",
       "category    7142\n",
       "dtype: int64"
      ]
     },
     "metadata": {},
     "execution_count": 11
    }
   ],
   "source": [
    "test_df.count()"
   ]
  },
  {
   "cell_type": "code",
   "execution_count": 12,
   "metadata": {},
   "outputs": [
    {
     "output_type": "execute_result",
     "data": {
      "text/plain": [
       "'Article 10886 of alt.radio.scanner: >Newsgroups: alt.radio.scanner Hello. I have a Realistic PRO-2024 scanner for sale.Here is a small desc ription: 60 programible chanels fully detailed backlighted digital display headphone jack antenna jack removable telescoping antenna auto search coverage: 30-50mHz 118-174mHz 380-512mHz It originally cost $200, but I will sell for $150. Thank You. --         / /     Buchanan in `96!       / /      Fear the goverment that fears your guns.   \\\\ \\\\/ /       Without the 2nd amendment, we cannot guarantee ou    \\\\/ /        r freedoms.           aj008@cleveland.freenet.edu --         / /     Buchanan in `96!       / /      Fear the goverment that fears your guns.   \\\\ \\\\/ /       Without the 2nd amendment, we cannot guarantee ou    \\\\/ /        r freedoms.           aj008@cleveland.freenet.edu'"
      ]
     },
     "metadata": {},
     "execution_count": 12
    }
   ],
   "source": [
    "# review random message from train dataset\n",
    "train_df.at[8180, 'corpus']"
   ]
  },
  {
   "source": [
    "### Data cleaning"
   ],
   "cell_type": "markdown",
   "metadata": {}
  },
  {
   "cell_type": "code",
   "execution_count": 13,
   "metadata": {},
   "outputs": [],
   "source": [
    "# custom function for text cleaning\n",
    "def clean_text(text):\n",
    "    text = re.sub('(Subject: |Re: )', '', text) #1\n",
    "    text = text.lower() #2\n",
    "    # text = re.sub(r'\\b[a-zA-Z]\\b', \"\", text)\n",
    "    text = re.sub('[%s]' % re.escape(string.punctuation), '', text)\n",
    "    text = re.sub('(\\t)', '', text)\n",
    "    text = re.sub('\\w*\\d\\w*', '', text)\n",
    "    text = ' '.join(text.split())\n",
    "    return text"
   ]
  },
  {
   "cell_type": "code",
   "execution_count": 14,
   "metadata": {},
   "outputs": [],
   "source": [
    "# apply cleaning function\n",
    "train_df['corpus'] = train_df['corpus'].apply(lambda x: clean_text(x))\n",
    "test_df['corpus'] = test_df['corpus'].apply(lambda x: clean_text(x))"
   ]
  },
  {
   "cell_type": "code",
   "execution_count": 15,
   "metadata": {},
   "outputs": [
    {
     "output_type": "execute_result",
     "data": {
      "text/plain": [
       "'article of altradioscanner newsgroups altradioscanner hello i have a realistic scanner for salehere is a small desc ription programible chanels fully detailed backlighted digital display headphone jack antenna jack removable telescoping antenna auto search coverage it originally cost but i will sell for thank you buchanan in fear the goverment that fears your guns without the amendment we cannot guarantee ou r freedoms buchanan in fear the goverment that fears your guns without the amendment we cannot guarantee ou r freedoms'"
      ]
     },
     "metadata": {},
     "execution_count": 15
    }
   ],
   "source": [
    "#Review message after cleaning\n",
    "train_df.at[8180, 'corpus']"
   ]
  },
  {
   "source": [
    "### Remove stopwords"
   ],
   "cell_type": "markdown",
   "metadata": {}
  },
  {
   "cell_type": "code",
   "execution_count": 16,
   "metadata": {},
   "outputs": [],
   "source": [
    "# load libraries and stopwords disctionary\n",
    "from nltk.corpus import stopwords\n",
    "stopwords = stopwords.words('english')"
   ]
  },
  {
   "cell_type": "code",
   "execution_count": 17,
   "metadata": {},
   "outputs": [],
   "source": [
    "# custom function to remove stopwords\n",
    "def remove_stopwords(corpus):\n",
    "    text = corpus.split()\n",
    "    text = [word for word in text if not word in set(stopwords)]\n",
    "    text = ' '.join(text)\n",
    "    return text"
   ]
  },
  {
   "cell_type": "code",
   "execution_count": 18,
   "metadata": {},
   "outputs": [],
   "source": [
    "# apply remove stopwords function\n",
    "train_df['corpus'] = train_df['corpus'].apply(lambda x: remove_stopwords(x))\n",
    "test_df['corpus'] = test_df['corpus'].apply(lambda x: remove_stopwords(x))"
   ]
  },
  {
   "cell_type": "code",
   "execution_count": 19,
   "metadata": {},
   "outputs": [
    {
     "output_type": "execute_result",
     "data": {
      "text/plain": [
       "'article altradioscanner newsgroups altradioscanner hello realistic scanner salehere small desc ription programible chanels fully detailed backlighted digital display headphone jack antenna jack removable telescoping antenna auto search coverage originally cost sell thank buchanan fear goverment fears guns without amendment cannot guarantee ou r freedoms buchanan fear goverment fears guns without amendment cannot guarantee ou r freedoms'"
      ]
     },
     "metadata": {},
     "execution_count": 19
    }
   ],
   "source": [
    "# review message after removing stopwords\n",
    "train_df.at[8180, 'corpus']"
   ]
  },
  {
   "source": [
    "### Lemmatization"
   ],
   "cell_type": "markdown",
   "metadata": {}
  },
  {
   "cell_type": "code",
   "execution_count": 20,
   "metadata": {},
   "outputs": [],
   "source": [
    "from nltk.stem import WordNetLemmatizer\n",
    "lemmatizer = WordNetLemmatizer()"
   ]
  },
  {
   "cell_type": "code",
   "execution_count": 21,
   "metadata": {},
   "outputs": [],
   "source": [
    "# custom lemmatize function\n",
    "def lemmatize(corpus):\n",
    "    words = corpus.split()\n",
    "    text = []\n",
    "    for word in words:\n",
    "        text.append(lemmatizer.lemmatize(word))\n",
    "    text = ' '.join(text)\n",
    "    return text"
   ]
  },
  {
   "cell_type": "code",
   "execution_count": 22,
   "metadata": {},
   "outputs": [],
   "source": [
    "# apply lemmatize function\n",
    "train_df['corpus'] = train_df['corpus'].apply(lambda x: lemmatize(x))\n",
    "test_df['corpus'] = test_df['corpus'].apply(lambda x: lemmatize(x))"
   ]
  },
  {
   "cell_type": "code",
   "execution_count": 23,
   "metadata": {},
   "outputs": [
    {
     "output_type": "execute_result",
     "data": {
      "text/plain": [
       "'article altradioscanner newsgroups altradioscanner hello realistic scanner salehere small desc ription programible chanels fully detailed backlighted digital display headphone jack antenna jack removable telescoping antenna auto search coverage originally cost sell thank buchanan fear goverment fear gun without amendment cannot guarantee ou r freedom buchanan fear goverment fear gun without amendment cannot guarantee ou r freedom'"
      ]
     },
     "metadata": {},
     "execution_count": 23
    }
   ],
   "source": [
    "# review message after lemmatization\n",
    "train_df.at[8180, 'corpus']"
   ]
  },
  {
   "source": [
    "### Save train_df and test_df variables to pickles"
   ],
   "cell_type": "markdown",
   "metadata": {}
  },
  {
   "cell_type": "code",
   "execution_count": 24,
   "metadata": {},
   "outputs": [],
   "source": [
    "train_df.to_pickle('pickles/train_df.pkl')\n",
    "test_df.to_pickle('pickles/test_df.pkl')"
   ]
  }
 ]
}