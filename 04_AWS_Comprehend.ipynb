{
 "metadata": {
  "language_info": {
   "codemirror_mode": {
    "name": "ipython",
    "version": 3
   },
   "file_extension": ".py",
   "mimetype": "text/x-python",
   "name": "python",
   "nbconvert_exporter": "python",
   "pygments_lexer": "ipython3",
   "version": "3.8.8"
  },
  "orig_nbformat": 2,
  "kernelspec": {
   "name": "python388jvsc74a57bd0912010baf4bb90041d1ad81dcecc32bbbfca13fd6e059f3921407f6ca36161e8",
   "display_name": "Python 3.8.8 64-bit"
  },
  "metadata": {
   "interpreter": {
    "hash": "912010baf4bb90041d1ad81dcecc32bbbfca13fd6e059f3921407f6ca36161e8"
   }
  }
 },
 "nbformat": 4,
 "nbformat_minor": 2,
 "cells": [
  {
   "source": [
    "## 1. Prepare training and test data"
   ],
   "cell_type": "markdown",
   "metadata": {}
  },
  {
   "source": [
    "### Load libraries"
   ],
   "cell_type": "markdown",
   "metadata": {}
  },
  {
   "cell_type": "code",
   "execution_count": 64,
   "metadata": {},
   "outputs": [],
   "source": [
    "import pandas as pd\n",
    "import codecs"
   ]
  },
  {
   "source": [
    "### Import data from pickles"
   ],
   "cell_type": "markdown",
   "metadata": {}
  },
  {
   "cell_type": "code",
   "execution_count": 65,
   "metadata": {},
   "outputs": [],
   "source": [
    "train_df = pd.read_pickle('pickles/train_df.pkl')\n",
    "test_df = pd.read_pickle('pickles/test_df.pkl')"
   ]
  },
  {
   "cell_type": "code",
   "execution_count": 66,
   "metadata": {},
   "outputs": [
    {
     "output_type": "execute_result",
     "data": {
      "text/plain": [
       "                                                 corpus  category\n",
       "9113  thought emergency condition sts put good size ...   Science\n",
       "6744  article nrpstandrewsacuk norman r paterson wri...  Religion\n",
       "8437  sometime future diet evangelist may get diet w...   Science\n",
       "5520  said article nelsonpapollohpcom peter nelson w...  Politics\n",
       "7281  jhessenetcomcom john hesse writes oh great won...   Science"
      ],
      "text/html": "<div>\n<style scoped>\n    .dataframe tbody tr th:only-of-type {\n        vertical-align: middle;\n    }\n\n    .dataframe tbody tr th {\n        vertical-align: top;\n    }\n\n    .dataframe thead th {\n        text-align: right;\n    }\n</style>\n<table border=\"1\" class=\"dataframe\">\n  <thead>\n    <tr style=\"text-align: right;\">\n      <th></th>\n      <th>corpus</th>\n      <th>category</th>\n    </tr>\n  </thead>\n  <tbody>\n    <tr>\n      <th>9113</th>\n      <td>thought emergency condition sts put good size ...</td>\n      <td>Science</td>\n    </tr>\n    <tr>\n      <th>6744</th>\n      <td>article nrpstandrewsacuk norman r paterson wri...</td>\n      <td>Religion</td>\n    </tr>\n    <tr>\n      <th>8437</th>\n      <td>sometime future diet evangelist may get diet w...</td>\n      <td>Science</td>\n    </tr>\n    <tr>\n      <th>5520</th>\n      <td>said article nelsonpapollohpcom peter nelson w...</td>\n      <td>Politics</td>\n    </tr>\n    <tr>\n      <th>7281</th>\n      <td>jhessenetcomcom john hesse writes oh great won...</td>\n      <td>Science</td>\n    </tr>\n  </tbody>\n</table>\n</div>"
     },
     "metadata": {},
     "execution_count": 66
    }
   ],
   "source": [
    "# review samlple data\n",
    "train_df.sample(n=5)"
   ]
  },
  {
   "source": [
    "### Change columns order"
   ],
   "cell_type": "markdown",
   "metadata": {}
  },
  {
   "cell_type": "code",
   "execution_count": 67,
   "metadata": {},
   "outputs": [
    {
     "output_type": "stream",
     "name": "stdout",
     "text": [
      "         category                                             corpus\n362    Automotive  neilsonseoulmprca robert neilson writes sorry ...\n2826    Computers  anyone know answer offhand please answer email...\n10528      Sports  deepak chhabra dchhabrastplistsca wrote speaki...\n1479    Computers  ive recently got hold pc card id like c progra...\n1342    Computers  cptullymeduncedu christopher p writes tight ma...\n       category                                             corpus\n2152  Computers  eric bosco eboscousoraclecom wrote first pleas...\n1299  Computers  rhive noticed save model mapping plane rhposit...\n2983   Politics  article stevehthoriscbrcom steve hendricks wri...\n6975     Sports                     believe nhl draft june weekend\n3085   Politics  sunshineccocaltechedu tom renner writes pvasil...\n"
     ]
    }
   ],
   "source": [
    "col_name = 'category'\n",
    "\n",
    "# training data\n",
    "first_col = train_df.pop(col_name)\n",
    "train_df.insert(0, col_name, first_col)\n",
    "print(train_df.sample(n=5))\n",
    "\n",
    "# test data\n",
    "first_col = test_df.pop(col_name)\n",
    "test_df.insert(0, col_name, first_col)\n",
    "print(test_df.sample(n=5))"
   ]
  },
  {
   "source": [
    "### Save training data into .csv file"
   ],
   "cell_type": "markdown",
   "metadata": {}
  },
  {
   "cell_type": "code",
   "execution_count": 68,
   "metadata": {},
   "outputs": [],
   "source": [
    "train_df.to_csv(\"data/Comprehend/train.csv\", index=False, header=False)"
   ]
  },
  {
   "source": [
    "### Preparing .txt file with training data"
   ],
   "cell_type": "markdown",
   "metadata": {}
  },
  {
   "cell_type": "code",
   "execution_count": 69,
   "metadata": {},
   "outputs": [],
   "source": [
    "# remove categories column\n",
    "test_df.drop(columns='category', axis=0, inplace=True)"
   ]
  },
  {
   "cell_type": "code",
   "execution_count": 70,
   "metadata": {},
   "outputs": [
    {
     "output_type": "execute_result",
     "data": {
      "text/plain": [
       "                                              corpus\n",
       "0  corp opinion expressed user necessarily convex...\n",
       "1  tobiasconvexcom allen tobias writes better sti...\n",
       "2  actually simple principle porous adsorbent lik...\n",
       "3  dont know california false representation odom...\n",
       "4  article davewcsumdedu david g wonnacott writes..."
      ],
      "text/html": "<div>\n<style scoped>\n    .dataframe tbody tr th:only-of-type {\n        vertical-align: middle;\n    }\n\n    .dataframe tbody tr th {\n        vertical-align: top;\n    }\n\n    .dataframe thead th {\n        text-align: right;\n    }\n</style>\n<table border=\"1\" class=\"dataframe\">\n  <thead>\n    <tr style=\"text-align: right;\">\n      <th></th>\n      <th>corpus</th>\n    </tr>\n  </thead>\n  <tbody>\n    <tr>\n      <th>0</th>\n      <td>corp opinion expressed user necessarily convex...</td>\n    </tr>\n    <tr>\n      <th>1</th>\n      <td>tobiasconvexcom allen tobias writes better sti...</td>\n    </tr>\n    <tr>\n      <th>2</th>\n      <td>actually simple principle porous adsorbent lik...</td>\n    </tr>\n    <tr>\n      <th>3</th>\n      <td>dont know california false representation odom...</td>\n    </tr>\n    <tr>\n      <th>4</th>\n      <td>article davewcsumdedu david g wonnacott writes...</td>\n    </tr>\n  </tbody>\n</table>\n</div>"
     },
     "metadata": {},
     "execution_count": 70
    }
   ],
   "source": [
    "test_df.head()"
   ]
  },
  {
   "cell_type": "code",
   "execution_count": 71,
   "metadata": {},
   "outputs": [],
   "source": [
    "# save file\n",
    "with codecs.open('data/Comprehend/test.txt', 'w', \"utf-8-sig\") as f:\n",
    "    for index, row in test_df.iterrows():\n",
    "        f.write(\"%s\\n\" % row['corpus'])"
   ]
  },
  {
   "source": [
    "## 2. Read and evaluate model predictions"
   ],
   "cell_type": "markdown",
   "metadata": {}
  },
  {
   "source": [
    "### Load libraries"
   ],
   "cell_type": "markdown",
   "metadata": {}
  },
  {
   "cell_type": "code",
   "execution_count": 72,
   "metadata": {},
   "outputs": [],
   "source": [
    "import pandas as pd\n",
    "import json"
   ]
  },
  {
   "source": [
    "### Open predictions file"
   ],
   "cell_type": "markdown",
   "metadata": {}
  },
  {
   "cell_type": "code",
   "execution_count": 73,
   "metadata": {},
   "outputs": [
    {
     "output_type": "stream",
     "name": "stdout",
     "text": [
      "{'File': 'test.txt', 'Line': '0', 'Classes': [{'Name': 'Automotive', 'Score': 0.9087}, {'Name': 'Science', 'Score': 0.064}, {'Name': 'Computers', 'Score': 0.0163}]}\n"
     ]
    }
   ],
   "source": [
    "with open(\"data/Comprehend/predictions.jsonl\", \"r\") as file:\n",
    "    json_list = list(file)\n",
    "\n",
    "obj_list = []\n",
    "\n",
    "for json_str in json_list:\n",
    "    result = json.loads(json_str)\n",
    "    obj_list.append(result)\n",
    "\n",
    "print(obj_list[0])"
   ]
  },
  {
   "source": [
    "### Prepare list with predicted classes (categories)"
   ],
   "cell_type": "markdown",
   "metadata": {}
  },
  {
   "cell_type": "code",
   "execution_count": 74,
   "metadata": {},
   "outputs": [
    {
     "output_type": "stream",
     "name": "stdout",
     "text": [
      "Automotive\n"
     ]
    }
   ],
   "source": [
    "predicted_classes = []\n",
    "\n",
    "for obj in obj_list:\n",
    "    predicted_classes.append(obj['Classes'][0]['Name'])\n",
    "\n",
    "print(predicted_classes[0])"
   ]
  },
  {
   "source": [
    "### Load test data"
   ],
   "cell_type": "markdown",
   "metadata": {}
  },
  {
   "cell_type": "code",
   "execution_count": 75,
   "metadata": {},
   "outputs": [],
   "source": [
    "test_df = pd.read_pickle('pickles/test_df.pkl')"
   ]
  },
  {
   "source": [
    "### Read test categories"
   ],
   "cell_type": "markdown",
   "metadata": {}
  },
  {
   "cell_type": "code",
   "execution_count": 76,
   "metadata": {},
   "outputs": [
    {
     "output_type": "stream",
     "name": "stdout",
     "text": [
      "['Automotive' 'Automotive' 'Automotive' ... 'Sports' 'Sports' 'Sports']\n"
     ]
    }
   ],
   "source": [
    "y_test = test_df.iloc[:, -1].values\n",
    "print(y_test)"
   ]
  },
  {
   "source": [
    "### Prepare accuracy score and confusion matrix"
   ],
   "cell_type": "markdown",
   "metadata": {}
  },
  {
   "cell_type": "code",
   "execution_count": 77,
   "metadata": {},
   "outputs": [
    {
     "output_type": "stream",
     "name": "stdout",
     "text": [
      "0.8840660879305516\n[[ 711   34    5    4   38    2]\n [  14 1815    7   12  105    2]\n [   7   23  892   65   57    6]\n [   2   34   33  861   36    2]\n [  14  203   34   32 1293    3]\n [   1   23    6   11   13  742]]\n"
     ]
    }
   ],
   "source": [
    "from sklearn.metrics import confusion_matrix, accuracy_score\n",
    "print(accuracy_score(y_test, predicted_classes))\n",
    "cm = confusion_matrix(y_test, predicted_classes, labels=['Automotive', 'Computers', 'Politics', 'Religion', 'Science', 'Sports'])\n",
    "print(cm)"
   ]
  }
 ]
}